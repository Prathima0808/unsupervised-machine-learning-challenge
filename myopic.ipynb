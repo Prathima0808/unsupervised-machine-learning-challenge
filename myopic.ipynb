{
 "cells": [
  {
   "cell_type": "code",
   "execution_count": 1,
   "id": "3d373a0b",
   "metadata": {},
   "outputs": [],
   "source": [
    "import matplotlib.pyplot as plt\n",
    "import pandas as pd\n",
    "from pathlib import Path\n",
    "from sklearn.neighbors import KNeighborsClassifier\n",
    "from sklearn.preprocessing import StandardScaler\n",
    "from sklearn.decomposition import PCA\n",
    "from sklearn.manifold import TSNE\n",
    "from sklearn.cluster import KMeans"
   ]
  },
  {
   "cell_type": "code",
   "execution_count": 2,
   "id": "dc09a2fc",
   "metadata": {},
   "outputs": [
    {
     "data": {
      "text/html": [
       "<div>\n",
       "<style scoped>\n",
       "    .dataframe tbody tr th:only-of-type {\n",
       "        vertical-align: middle;\n",
       "    }\n",
       "\n",
       "    .dataframe tbody tr th {\n",
       "        vertical-align: top;\n",
       "    }\n",
       "\n",
       "    .dataframe thead th {\n",
       "        text-align: right;\n",
       "    }\n",
       "</style>\n",
       "<table border=\"1\" class=\"dataframe\">\n",
       "  <thead>\n",
       "    <tr style=\"text-align: right;\">\n",
       "      <th></th>\n",
       "      <th>AGE</th>\n",
       "      <th>SPHEQ</th>\n",
       "      <th>AL</th>\n",
       "      <th>ACD</th>\n",
       "      <th>LT</th>\n",
       "      <th>VCD</th>\n",
       "      <th>SPORTHR</th>\n",
       "      <th>READHR</th>\n",
       "      <th>COMPHR</th>\n",
       "      <th>STUDYHR</th>\n",
       "      <th>TVHR</th>\n",
       "      <th>DIOPTERHR</th>\n",
       "      <th>MOMMY</th>\n",
       "      <th>DADMY</th>\n",
       "      <th>MYOPIC</th>\n",
       "    </tr>\n",
       "  </thead>\n",
       "  <tbody>\n",
       "    <tr>\n",
       "      <th>0</th>\n",
       "      <td>6</td>\n",
       "      <td>-0.052</td>\n",
       "      <td>21.889999</td>\n",
       "      <td>3.690</td>\n",
       "      <td>3.498</td>\n",
       "      <td>14.70</td>\n",
       "      <td>45</td>\n",
       "      <td>8</td>\n",
       "      <td>0</td>\n",
       "      <td>0</td>\n",
       "      <td>10</td>\n",
       "      <td>34</td>\n",
       "      <td>1</td>\n",
       "      <td>1</td>\n",
       "      <td>1</td>\n",
       "    </tr>\n",
       "    <tr>\n",
       "      <th>1</th>\n",
       "      <td>6</td>\n",
       "      <td>0.608</td>\n",
       "      <td>22.379999</td>\n",
       "      <td>3.702</td>\n",
       "      <td>3.392</td>\n",
       "      <td>15.29</td>\n",
       "      <td>4</td>\n",
       "      <td>0</td>\n",
       "      <td>1</td>\n",
       "      <td>1</td>\n",
       "      <td>7</td>\n",
       "      <td>12</td>\n",
       "      <td>1</td>\n",
       "      <td>1</td>\n",
       "      <td>0</td>\n",
       "    </tr>\n",
       "    <tr>\n",
       "      <th>2</th>\n",
       "      <td>6</td>\n",
       "      <td>1.179</td>\n",
       "      <td>22.490000</td>\n",
       "      <td>3.462</td>\n",
       "      <td>3.514</td>\n",
       "      <td>15.52</td>\n",
       "      <td>14</td>\n",
       "      <td>0</td>\n",
       "      <td>2</td>\n",
       "      <td>0</td>\n",
       "      <td>10</td>\n",
       "      <td>14</td>\n",
       "      <td>0</td>\n",
       "      <td>0</td>\n",
       "      <td>0</td>\n",
       "    </tr>\n",
       "    <tr>\n",
       "      <th>3</th>\n",
       "      <td>6</td>\n",
       "      <td>0.525</td>\n",
       "      <td>22.200001</td>\n",
       "      <td>3.862</td>\n",
       "      <td>3.612</td>\n",
       "      <td>14.73</td>\n",
       "      <td>18</td>\n",
       "      <td>11</td>\n",
       "      <td>0</td>\n",
       "      <td>0</td>\n",
       "      <td>4</td>\n",
       "      <td>37</td>\n",
       "      <td>0</td>\n",
       "      <td>1</td>\n",
       "      <td>1</td>\n",
       "    </tr>\n",
       "    <tr>\n",
       "      <th>4</th>\n",
       "      <td>5</td>\n",
       "      <td>0.697</td>\n",
       "      <td>23.290001</td>\n",
       "      <td>3.676</td>\n",
       "      <td>3.454</td>\n",
       "      <td>16.16</td>\n",
       "      <td>14</td>\n",
       "      <td>0</td>\n",
       "      <td>0</td>\n",
       "      <td>0</td>\n",
       "      <td>4</td>\n",
       "      <td>4</td>\n",
       "      <td>1</td>\n",
       "      <td>0</td>\n",
       "      <td>0</td>\n",
       "    </tr>\n",
       "  </tbody>\n",
       "</table>\n",
       "</div>"
      ],
      "text/plain": [
       "   AGE  SPHEQ         AL    ACD     LT    VCD  SPORTHR  READHR  COMPHR  \\\n",
       "0    6 -0.052  21.889999  3.690  3.498  14.70       45       8       0   \n",
       "1    6  0.608  22.379999  3.702  3.392  15.29        4       0       1   \n",
       "2    6  1.179  22.490000  3.462  3.514  15.52       14       0       2   \n",
       "3    6  0.525  22.200001  3.862  3.612  14.73       18      11       0   \n",
       "4    5  0.697  23.290001  3.676  3.454  16.16       14       0       0   \n",
       "\n",
       "   STUDYHR  TVHR  DIOPTERHR  MOMMY  DADMY  MYOPIC  \n",
       "0        0    10         34      1      1       1  \n",
       "1        1     7         12      1      1       0  \n",
       "2        0    10         14      0      0       0  \n",
       "3        0     4         37      0      1       1  \n",
       "4        0     4          4      1      0       0  "
      ]
     },
     "execution_count": 2,
     "metadata": {},
     "output_type": "execute_result"
    }
   ],
   "source": [
    "# 1.1 Read myopia.csv into a Pandas DataFrame.\n",
    "file_path = Path('Resources/Myopia.csv')\n",
    "df = pd.read_csv(file_path)\n",
    "df.head()"
   ]
  },
  {
   "cell_type": "code",
   "execution_count": 3,
   "id": "6e5ec70b",
   "metadata": {},
   "outputs": [
    {
     "data": {
      "text/plain": [
       "2"
      ]
     },
     "execution_count": 3,
     "metadata": {},
     "output_type": "execute_result"
    }
   ],
   "source": [
    "df[\"MYOPIC\"].nunique()"
   ]
  },
  {
   "cell_type": "code",
   "execution_count": 4,
   "id": "905d7c46",
   "metadata": {},
   "outputs": [
    {
     "data": {
      "text/plain": [
       "2"
      ]
     },
     "execution_count": 4,
     "metadata": {},
     "output_type": "execute_result"
    }
   ],
   "source": [
    "labels = df['MYOPIC']\n",
    "labels.value_counts().nunique()"
   ]
  },
  {
   "cell_type": "code",
   "execution_count": 5,
   "id": "bcb0d234",
   "metadata": {},
   "outputs": [
    {
     "data": {
      "text/plain": [
       "(618, 15)"
      ]
     },
     "execution_count": 5,
     "metadata": {},
     "output_type": "execute_result"
    }
   ],
   "source": [
    "# Get the shape (number of columns and rows) of the DataFrame\n",
    "df.shape"
   ]
  },
  {
   "cell_type": "code",
   "execution_count": 6,
   "id": "a03213b1",
   "metadata": {},
   "outputs": [
    {
     "data": {
      "text/plain": [
       "Index(['AGE', 'SPHEQ', 'AL', 'ACD', 'LT', 'VCD', 'SPORTHR', 'READHR', 'COMPHR',\n",
       "       'STUDYHR', 'TVHR', 'DIOPTERHR', 'MOMMY', 'DADMY', 'MYOPIC'],\n",
       "      dtype='object')"
      ]
     },
     "execution_count": 6,
     "metadata": {},
     "output_type": "execute_result"
    }
   ],
   "source": [
    "# Get the column names\n",
    "df.columns"
   ]
  },
  {
   "cell_type": "code",
   "execution_count": 7,
   "id": "4efdfc68",
   "metadata": {},
   "outputs": [
    {
     "data": {
      "text/plain": [
       "AGE          0\n",
       "SPHEQ        0\n",
       "AL           0\n",
       "ACD          0\n",
       "LT           0\n",
       "VCD          0\n",
       "SPORTHR      0\n",
       "READHR       0\n",
       "COMPHR       0\n",
       "STUDYHR      0\n",
       "TVHR         0\n",
       "DIOPTERHR    0\n",
       "MOMMY        0\n",
       "DADMY        0\n",
       "MYOPIC       0\n",
       "dtype: int64"
      ]
     },
     "execution_count": 7,
     "metadata": {},
     "output_type": "execute_result"
    }
   ],
   "source": [
    "# Find out if there are any missing/null values\n",
    "df.isnull().sum()"
   ]
  },
  {
   "cell_type": "code",
   "execution_count": 8,
   "id": "88bd378f",
   "metadata": {},
   "outputs": [
    {
     "data": {
      "text/plain": [
       "0"
      ]
     },
     "execution_count": 8,
     "metadata": {},
     "output_type": "execute_result"
    }
   ],
   "source": [
    "# Find out if there are any duplicated rows\n",
    "df.duplicated().sum()"
   ]
  },
  {
   "cell_type": "code",
   "execution_count": 9,
   "id": "214875d4",
   "metadata": {},
   "outputs": [
    {
     "data": {
      "text/html": [
       "<div>\n",
       "<style scoped>\n",
       "    .dataframe tbody tr th:only-of-type {\n",
       "        vertical-align: middle;\n",
       "    }\n",
       "\n",
       "    .dataframe tbody tr th {\n",
       "        vertical-align: top;\n",
       "    }\n",
       "\n",
       "    .dataframe thead th {\n",
       "        text-align: right;\n",
       "    }\n",
       "</style>\n",
       "<table border=\"1\" class=\"dataframe\">\n",
       "  <thead>\n",
       "    <tr style=\"text-align: right;\">\n",
       "      <th></th>\n",
       "      <th>AGE</th>\n",
       "      <th>SPHEQ</th>\n",
       "      <th>AL</th>\n",
       "      <th>ACD</th>\n",
       "      <th>LT</th>\n",
       "      <th>VCD</th>\n",
       "      <th>SPORTHR</th>\n",
       "      <th>READHR</th>\n",
       "      <th>COMPHR</th>\n",
       "      <th>STUDYHR</th>\n",
       "      <th>TVHR</th>\n",
       "      <th>DIOPTERHR</th>\n",
       "      <th>MOMMY</th>\n",
       "      <th>DADMY</th>\n",
       "      <th>MYOPIC</th>\n",
       "    </tr>\n",
       "  </thead>\n",
       "  <tbody>\n",
       "    <tr>\n",
       "      <th>count</th>\n",
       "      <td>618.000000</td>\n",
       "      <td>618.000000</td>\n",
       "      <td>618.000000</td>\n",
       "      <td>618.000000</td>\n",
       "      <td>618.000000</td>\n",
       "      <td>618.000000</td>\n",
       "      <td>618.000000</td>\n",
       "      <td>618.000000</td>\n",
       "      <td>618.000000</td>\n",
       "      <td>618.000000</td>\n",
       "      <td>618.000000</td>\n",
       "      <td>618.000000</td>\n",
       "      <td>618.000000</td>\n",
       "      <td>618.000000</td>\n",
       "      <td>618.000000</td>\n",
       "    </tr>\n",
       "    <tr>\n",
       "      <th>mean</th>\n",
       "      <td>6.299353</td>\n",
       "      <td>0.801010</td>\n",
       "      <td>22.496780</td>\n",
       "      <td>3.578629</td>\n",
       "      <td>3.541453</td>\n",
       "      <td>15.376780</td>\n",
       "      <td>11.953074</td>\n",
       "      <td>2.796117</td>\n",
       "      <td>2.105178</td>\n",
       "      <td>1.490291</td>\n",
       "      <td>8.948220</td>\n",
       "      <td>26.017799</td>\n",
       "      <td>0.506472</td>\n",
       "      <td>0.498382</td>\n",
       "      <td>0.131068</td>\n",
       "    </tr>\n",
       "    <tr>\n",
       "      <th>std</th>\n",
       "      <td>0.712950</td>\n",
       "      <td>0.625918</td>\n",
       "      <td>0.680141</td>\n",
       "      <td>0.230394</td>\n",
       "      <td>0.154519</td>\n",
       "      <td>0.664183</td>\n",
       "      <td>7.968296</td>\n",
       "      <td>3.068191</td>\n",
       "      <td>3.056508</td>\n",
       "      <td>2.216207</td>\n",
       "      <td>5.719021</td>\n",
       "      <td>16.031715</td>\n",
       "      <td>0.500363</td>\n",
       "      <td>0.500402</td>\n",
       "      <td>0.337748</td>\n",
       "    </tr>\n",
       "    <tr>\n",
       "      <th>min</th>\n",
       "      <td>5.000000</td>\n",
       "      <td>-0.699000</td>\n",
       "      <td>19.900000</td>\n",
       "      <td>2.772000</td>\n",
       "      <td>2.960000</td>\n",
       "      <td>13.380000</td>\n",
       "      <td>0.000000</td>\n",
       "      <td>0.000000</td>\n",
       "      <td>0.000000</td>\n",
       "      <td>0.000000</td>\n",
       "      <td>0.000000</td>\n",
       "      <td>2.000000</td>\n",
       "      <td>0.000000</td>\n",
       "      <td>0.000000</td>\n",
       "      <td>0.000000</td>\n",
       "    </tr>\n",
       "    <tr>\n",
       "      <th>25%</th>\n",
       "      <td>6.000000</td>\n",
       "      <td>0.456250</td>\n",
       "      <td>22.040001</td>\n",
       "      <td>3.424000</td>\n",
       "      <td>3.436000</td>\n",
       "      <td>14.930000</td>\n",
       "      <td>6.000000</td>\n",
       "      <td>0.000000</td>\n",
       "      <td>0.000000</td>\n",
       "      <td>0.000000</td>\n",
       "      <td>4.250000</td>\n",
       "      <td>15.000000</td>\n",
       "      <td>0.000000</td>\n",
       "      <td>0.000000</td>\n",
       "      <td>0.000000</td>\n",
       "    </tr>\n",
       "    <tr>\n",
       "      <th>50%</th>\n",
       "      <td>6.000000</td>\n",
       "      <td>0.729000</td>\n",
       "      <td>22.464999</td>\n",
       "      <td>3.585000</td>\n",
       "      <td>3.542000</td>\n",
       "      <td>15.360000</td>\n",
       "      <td>10.000000</td>\n",
       "      <td>2.000000</td>\n",
       "      <td>1.000000</td>\n",
       "      <td>1.000000</td>\n",
       "      <td>8.000000</td>\n",
       "      <td>23.000000</td>\n",
       "      <td>1.000000</td>\n",
       "      <td>0.000000</td>\n",
       "      <td>0.000000</td>\n",
       "    </tr>\n",
       "    <tr>\n",
       "      <th>75%</th>\n",
       "      <td>6.000000</td>\n",
       "      <td>1.034000</td>\n",
       "      <td>22.969999</td>\n",
       "      <td>3.730000</td>\n",
       "      <td>3.640000</td>\n",
       "      <td>15.840000</td>\n",
       "      <td>16.000000</td>\n",
       "      <td>4.000000</td>\n",
       "      <td>3.000000</td>\n",
       "      <td>2.000000</td>\n",
       "      <td>12.000000</td>\n",
       "      <td>34.000000</td>\n",
       "      <td>1.000000</td>\n",
       "      <td>1.000000</td>\n",
       "      <td>0.000000</td>\n",
       "    </tr>\n",
       "    <tr>\n",
       "      <th>max</th>\n",
       "      <td>9.000000</td>\n",
       "      <td>4.372000</td>\n",
       "      <td>24.559999</td>\n",
       "      <td>4.250000</td>\n",
       "      <td>4.112000</td>\n",
       "      <td>17.299999</td>\n",
       "      <td>45.000000</td>\n",
       "      <td>20.000000</td>\n",
       "      <td>30.000000</td>\n",
       "      <td>15.000000</td>\n",
       "      <td>31.000000</td>\n",
       "      <td>101.000000</td>\n",
       "      <td>1.000000</td>\n",
       "      <td>1.000000</td>\n",
       "      <td>1.000000</td>\n",
       "    </tr>\n",
       "  </tbody>\n",
       "</table>\n",
       "</div>"
      ],
      "text/plain": [
       "              AGE       SPHEQ          AL         ACD          LT         VCD  \\\n",
       "count  618.000000  618.000000  618.000000  618.000000  618.000000  618.000000   \n",
       "mean     6.299353    0.801010   22.496780    3.578629    3.541453   15.376780   \n",
       "std      0.712950    0.625918    0.680141    0.230394    0.154519    0.664183   \n",
       "min      5.000000   -0.699000   19.900000    2.772000    2.960000   13.380000   \n",
       "25%      6.000000    0.456250   22.040001    3.424000    3.436000   14.930000   \n",
       "50%      6.000000    0.729000   22.464999    3.585000    3.542000   15.360000   \n",
       "75%      6.000000    1.034000   22.969999    3.730000    3.640000   15.840000   \n",
       "max      9.000000    4.372000   24.559999    4.250000    4.112000   17.299999   \n",
       "\n",
       "          SPORTHR      READHR      COMPHR     STUDYHR        TVHR   DIOPTERHR  \\\n",
       "count  618.000000  618.000000  618.000000  618.000000  618.000000  618.000000   \n",
       "mean    11.953074    2.796117    2.105178    1.490291    8.948220   26.017799   \n",
       "std      7.968296    3.068191    3.056508    2.216207    5.719021   16.031715   \n",
       "min      0.000000    0.000000    0.000000    0.000000    0.000000    2.000000   \n",
       "25%      6.000000    0.000000    0.000000    0.000000    4.250000   15.000000   \n",
       "50%     10.000000    2.000000    1.000000    1.000000    8.000000   23.000000   \n",
       "75%     16.000000    4.000000    3.000000    2.000000   12.000000   34.000000   \n",
       "max     45.000000   20.000000   30.000000   15.000000   31.000000  101.000000   \n",
       "\n",
       "            MOMMY       DADMY      MYOPIC  \n",
       "count  618.000000  618.000000  618.000000  \n",
       "mean     0.506472    0.498382    0.131068  \n",
       "std      0.500363    0.500402    0.337748  \n",
       "min      0.000000    0.000000    0.000000  \n",
       "25%      0.000000    0.000000    0.000000  \n",
       "50%      1.000000    0.000000    0.000000  \n",
       "75%      1.000000    1.000000    0.000000  \n",
       "max      1.000000    1.000000    1.000000  "
      ]
     },
     "execution_count": 9,
     "metadata": {},
     "output_type": "execute_result"
    }
   ],
   "source": [
    "# Statistical summary\n",
    "df.describe()"
   ]
  },
  {
   "cell_type": "code",
   "execution_count": null,
   "id": "a66a074b",
   "metadata": {},
   "outputs": [],
   "source": [
    "# 1.2 Remove the \"MYOPIC\" column from the dataset.\n",
    "df = df.drop('MYOPIC', axis=1)\n",
    "# Save the cleaned dataframe as a new csv file for future analysis\n",
    "file_path = Path('Resources/cleaned_myopia.csv')\n",
    "df.to_csv(file_path, index=False)"
   ]
  },
  {
   "cell_type": "code",
   "execution_count": 12,
   "id": "1f1e1660",
   "metadata": {},
   "outputs": [],
   "source": [
    "# 1.3 Standardize your dataset so that columns that contain larger values do not influence \n",
    "# the outcome more than columns with smaller values:\n",
    "\n",
    "# Create a scaler to standardize the data\n",
    "scaler = StandardScaler()\n",
    "\n",
    "# Train the scaler with the data.\n",
    "X_scaled = scaler.fit_transform(df)"
   ]
  },
  {
   "cell_type": "code",
   "execution_count": 14,
   "id": "505439e2",
   "metadata": {},
   "outputs": [
    {
     "data": {
      "text/plain": [
       "array([-0.42021911, -1.3639169 , -0.89286146,  0.48378402, -0.28144315,\n",
       "       -1.0197916 ,  4.1506609 ,  1.69744958, -0.68931054, -0.67299591,\n",
       "        0.18405806,  0.49830393,  0.98713773,  1.0032415 ])"
      ]
     },
     "execution_count": 14,
     "metadata": {},
     "output_type": "execute_result"
    }
   ],
   "source": [
    "# There are 14 dimensions (features/columns) in the Myopia Datasets \n",
    "X_scaled[0]"
   ]
  },
  {
   "cell_type": "code",
   "execution_count": 15,
   "id": "b3130eb1",
   "metadata": {},
   "outputs": [
    {
     "data": {
      "text/plain": [
       "0.9187361702915187"
      ]
     },
     "execution_count": 15,
     "metadata": {},
     "output_type": "execute_result"
    }
   ],
   "source": [
    "# 2.1 Perform dimensionality reduction with PCA. How did the number of the features change?\n",
    " # Initialize PCA model preserving 90% of the explained variance in dimensionality reduction\n",
    "pca = PCA(n_components=0.90)\n",
    "\n",
    "# Get the principal components for the X_train_scaled\n",
    "myopia_pca = pca.fit_transform(X_scaled)\n",
    "\n",
    "# Get the explained variance ratio\n",
    "pca.explained_variance_ratio_.sum()"
   ]
  },
  {
   "cell_type": "code",
   "execution_count": 16,
   "id": "60f8efc1",
   "metadata": {},
   "outputs": [
    {
     "data": {
      "text/plain": [
       "(618, 10)"
      ]
     },
     "execution_count": 16,
     "metadata": {},
     "output_type": "execute_result"
    }
   ],
   "source": [
    "# Get the shape of features after reduction\n",
    "myopia_pca.shape"
   ]
  },
  {
   "cell_type": "code",
   "execution_count": 17,
   "id": "75633920",
   "metadata": {},
   "outputs": [
    {
     "name": "stderr",
     "output_type": "stream",
     "text": [
      "C:\\Users\\prath\\anaconda3\\lib\\site-packages\\sklearn\\manifold\\_t_sne.py:780: FutureWarning: The default initialization in TSNE will change from 'random' to 'pca' in 1.2.\n",
      "  warnings.warn(\n"
     ]
    },
    {
     "name": "stdout",
     "output_type": "stream",
     "text": [
      "[t-SNE] Computing 151 nearest neighbors...\n",
      "[t-SNE] Indexed 618 samples in 0.004s...\n",
      "[t-SNE] Computed neighbors for 618 samples in 0.033s...\n",
      "[t-SNE] Computed conditional probabilities for sample 618 / 618\n",
      "[t-SNE] Mean sigma: 1.438866\n",
      "[t-SNE] KL divergence after 250 iterations with early exaggeration: 100.908249\n",
      "[t-SNE] KL divergence after 2500 iterations: 2.120811\n"
     ]
    }
   ],
   "source": [
    "# 2.2 Further reduce the dataset dimensions with t-SNE and visually inspect the results. \n",
    "\n",
    "# To do this, run t-SNE on the principal components, which is the output of the PCA transformation.\n",
    "#Initialize the t-SNE model\n",
    "tsne = TSNE(learning_rate=250, n_components=3, perplexity=50, verbose=1, n_iter=2500)\n",
    "#Reduce dimensions\n",
    "tsne_features = tsne.fit_transform(myopia_pca)"
   ]
  },
  {
   "cell_type": "code",
   "execution_count": 18,
   "id": "2481343a",
   "metadata": {},
   "outputs": [
    {
     "data": {
      "text/plain": [
       "(618, 3)"
      ]
     },
     "execution_count": 18,
     "metadata": {},
     "output_type": "execute_result"
    }
   ],
   "source": [
    "# Get the shape of features after reduction\n",
    "tsne_features.shape"
   ]
  },
  {
   "cell_type": "code",
   "execution_count": 19,
   "id": "6324b8a0",
   "metadata": {},
   "outputs": [
    {
     "data": {
      "text/plain": [
       "<matplotlib.collections.PathCollection at 0x17d9db39850>"
      ]
     },
     "execution_count": 19,
     "metadata": {},
     "output_type": "execute_result"
    },
    {
     "data": {
      "image/png": "[encoded data removed]",
      "text/plain": [
       "<Figure size 432x288 with 1 Axes>"
      ]
     },
     "metadata": {
      "needs_background": "light"
     },
     "output_type": "display_data"
    }
   ],
   "source": [
    "# 2.3 Create a scatter plot of the t-SNE output. Are there distinct clusters?\n",
    "plt.scatter(tsne_features[:,0],tsne_features[:,1],c=labels)"
   ]
  },
  {
   "cell_type": "code",
   "execution_count": 20,
   "id": "e8792810",
   "metadata": {},
   "outputs": [
    {
     "name": "stderr",
     "output_type": "stream",
     "text": [
      "C:\\Users\\prath\\anaconda3\\lib\\site-packages\\sklearn\\cluster\\_kmeans.py:1036: UserWarning: KMeans is known to have a memory leak on Windows with MKL, when there are less chunks than available threads. You can avoid it by setting the environment variable OMP_NUM_THREADS=3.\n",
      "  warnings.warn(\n"
     ]
    },
    {
     "data": {
      "text/html": [
       "<div>\n",
       "<style scoped>\n",
       "    .dataframe tbody tr th:only-of-type {\n",
       "        vertical-align: middle;\n",
       "    }\n",
       "\n",
       "    .dataframe tbody tr th {\n",
       "        vertical-align: top;\n",
       "    }\n",
       "\n",
       "    .dataframe thead th {\n",
       "        text-align: right;\n",
       "    }\n",
       "</style>\n",
       "<table border=\"1\" class=\"dataframe\">\n",
       "  <thead>\n",
       "    <tr style=\"text-align: right;\">\n",
       "      <th></th>\n",
       "      <th>k</th>\n",
       "      <th>inertia</th>\n",
       "    </tr>\n",
       "  </thead>\n",
       "  <tbody>\n",
       "    <tr>\n",
       "      <th>0</th>\n",
       "      <td>1</td>\n",
       "      <td>7948.905345</td>\n",
       "    </tr>\n",
       "    <tr>\n",
       "      <th>1</th>\n",
       "      <td>2</td>\n",
       "      <td>6794.415695</td>\n",
       "    </tr>\n",
       "    <tr>\n",
       "      <th>2</th>\n",
       "      <td>3</td>\n",
       "      <td>6031.097742</td>\n",
       "    </tr>\n",
       "    <tr>\n",
       "      <th>3</th>\n",
       "      <td>4</td>\n",
       "      <td>5662.587617</td>\n",
       "    </tr>\n",
       "    <tr>\n",
       "      <th>4</th>\n",
       "      <td>5</td>\n",
       "      <td>5376.410589</td>\n",
       "    </tr>\n",
       "  </tbody>\n",
       "</table>\n",
       "</div>"
      ],
      "text/plain": [
       "   k      inertia\n",
       "0  1  7948.905345\n",
       "1  2  6794.415695\n",
       "2  3  6031.097742\n",
       "3  4  5662.587617\n",
       "4  5  5376.410589"
      ]
     },
     "execution_count": 20,
     "metadata": {},
     "output_type": "execute_result"
    }
   ],
   "source": [
    "#3.1  Create an elbow plot to identify the best number of clusters. Make sure to do the following:\n",
    "\n",
    "# Use a for loop to determine the inertia for each k between 1 through 10.\n",
    "inertia = []\n",
    "k = list(range(1, 11))\n",
    "\n",
    "# Calculate the inertia for the range of k values\n",
    "for i in k:\n",
    "    km = KMeans(n_clusters=i, random_state=0)\n",
    "    km.fit(myopia_pca)\n",
    "    inertia.append(km.inertia_)\n",
    "\n",
    "    \n",
    "# 3.2 If possible, determine where the elbow of the plot is, and at which value of k it appears.\n",
    "# Create the Elbow Curve using hvPlot\n",
    "elbow_data = {\"k\": k, \"inertia\": inertia}\n",
    "df_elbow = pd.DataFrame(elbow_data)\n",
    "df_elbow.head()"
   ]
  },
  {
   "cell_type": "code",
   "execution_count": 21,
   "id": "23b5bd45",
   "metadata": {},
   "outputs": [
    {
     "data": {
      "image/png": "[encoded data removed]",
      "text/plain": [
       "<Figure size 432x288 with 1 Axes>"
      ]
     },
     "metadata": {
      "needs_background": "light"
     },
     "output_type": "display_data"
    }
   ],
   "source": [
    "# Plot the elbow curve to find the best candidate(s) for k\n",
    "plt.plot(df_elbow['k'], df_elbow['inertia'])\n",
    "plt.xticks(range(1,11))\n",
    "plt.xlabel('Number of clusters')\n",
    "plt.ylabel('Inertia')\n",
    "plt.title('Elbow curve for Myopia')\n",
    "plt.show()"
   ]
  },
  {
   "cell_type": "code",
   "execution_count": 22,
   "id": "81e8537b",
   "metadata": {},
   "outputs": [
    {
     "data": {
      "text/plain": [
       "10"
      ]
     },
     "execution_count": 22,
     "metadata": {},
     "output_type": "execute_result"
    }
   ],
   "source": [
    "len(pca.components_)"
   ]
  },
  {
   "cell_type": "code",
   "execution_count": 23,
   "id": "9820d9dd",
   "metadata": {},
   "outputs": [
    {
     "data": {
      "text/html": [
       "<div>\n",
       "<style scoped>\n",
       "    .dataframe tbody tr th:only-of-type {\n",
       "        vertical-align: middle;\n",
       "    }\n",
       "\n",
       "    .dataframe tbody tr th {\n",
       "        vertical-align: top;\n",
       "    }\n",
       "\n",
       "    .dataframe thead th {\n",
       "        text-align: right;\n",
       "    }\n",
       "</style>\n",
       "<table border=\"1\" class=\"dataframe\">\n",
       "  <thead>\n",
       "    <tr style=\"text-align: right;\">\n",
       "      <th></th>\n",
       "      <th>1</th>\n",
       "      <th>2</th>\n",
       "      <th>3</th>\n",
       "      <th>4</th>\n",
       "      <th>5</th>\n",
       "      <th>6</th>\n",
       "      <th>7</th>\n",
       "      <th>8</th>\n",
       "      <th>9</th>\n",
       "      <th>10</th>\n",
       "      <th>class</th>\n",
       "    </tr>\n",
       "  </thead>\n",
       "  <tbody>\n",
       "    <tr>\n",
       "      <th>0</th>\n",
       "      <td>0.535503</td>\n",
       "      <td>1.145004</td>\n",
       "      <td>-1.385019</td>\n",
       "      <td>0.116006</td>\n",
       "      <td>-3.226691</td>\n",
       "      <td>-1.928459</td>\n",
       "      <td>-1.958892</td>\n",
       "      <td>-1.922997</td>\n",
       "      <td>0.026753</td>\n",
       "      <td>0.178144</td>\n",
       "      <td>6</td>\n",
       "    </tr>\n",
       "    <tr>\n",
       "      <th>1</th>\n",
       "      <td>-0.624706</td>\n",
       "      <td>-1.575786</td>\n",
       "      <td>-0.794253</td>\n",
       "      <td>1.156287</td>\n",
       "      <td>0.292256</td>\n",
       "      <td>0.349060</td>\n",
       "      <td>-0.455206</td>\n",
       "      <td>0.285332</td>\n",
       "      <td>0.689683</td>\n",
       "      <td>-0.557031</td>\n",
       "      <td>2</td>\n",
       "    </tr>\n",
       "    <tr>\n",
       "      <th>2</th>\n",
       "      <td>-0.933479</td>\n",
       "      <td>-0.717076</td>\n",
       "      <td>0.820150</td>\n",
       "      <td>-1.547638</td>\n",
       "      <td>0.173941</td>\n",
       "      <td>0.272783</td>\n",
       "      <td>0.025821</td>\n",
       "      <td>-0.030817</td>\n",
       "      <td>-0.431499</td>\n",
       "      <td>0.013336</td>\n",
       "      <td>8</td>\n",
       "    </tr>\n",
       "    <tr>\n",
       "      <th>3</th>\n",
       "      <td>0.106354</td>\n",
       "      <td>1.192475</td>\n",
       "      <td>-0.024441</td>\n",
       "      <td>1.507469</td>\n",
       "      <td>-2.356836</td>\n",
       "      <td>-0.023139</td>\n",
       "      <td>0.236418</td>\n",
       "      <td>-1.717109</td>\n",
       "      <td>-1.230785</td>\n",
       "      <td>-0.703400</td>\n",
       "      <td>6</td>\n",
       "    </tr>\n",
       "    <tr>\n",
       "      <th>4</th>\n",
       "      <td>-0.388503</td>\n",
       "      <td>-2.839655</td>\n",
       "      <td>-0.229767</td>\n",
       "      <td>-0.622510</td>\n",
       "      <td>0.271458</td>\n",
       "      <td>-0.928956</td>\n",
       "      <td>0.537900</td>\n",
       "      <td>-1.301787</td>\n",
       "      <td>0.279007</td>\n",
       "      <td>0.631183</td>\n",
       "      <td>2</td>\n",
       "    </tr>\n",
       "  </tbody>\n",
       "</table>\n",
       "</div>"
      ],
      "text/plain": [
       "          1         2         3         4         5         6         7  \\\n",
       "0  0.535503  1.145004 -1.385019  0.116006 -3.226691 -1.928459 -1.958892   \n",
       "1 -0.624706 -1.575786 -0.794253  1.156287  0.292256  0.349060 -0.455206   \n",
       "2 -0.933479 -0.717076  0.820150 -1.547638  0.173941  0.272783  0.025821   \n",
       "3  0.106354  1.192475 -0.024441  1.507469 -2.356836 -0.023139  0.236418   \n",
       "4 -0.388503 -2.839655 -0.229767 -0.622510  0.271458 -0.928956  0.537900   \n",
       "\n",
       "          8         9        10  class  \n",
       "0 -1.922997  0.026753  0.178144      6  \n",
       "1  0.285332  0.689683 -0.557031      2  \n",
       "2 -0.030817 -0.431499  0.013336      8  \n",
       "3 -1.717109 -1.230785 -0.703400      6  \n",
       "4 -1.301787  0.279007  0.631183      2  "
      ]
     },
     "execution_count": 23,
     "metadata": {},
     "output_type": "execute_result"
    }
   ],
   "source": [
    "# Create a DataFrame from the PCA transformed data for K-Means modelling and plotting\n",
    "columns=[]\n",
    "for i in range(len(pca.components_)):\n",
    "    columns.append(i+1)\n",
    "pca_df = pd.DataFrame(myopia_pca, columns=columns)\n",
    "pca_df['class']= km.labels_\n",
    "pca_df.head()"
   ]
  },
  {
   "cell_type": "code",
   "execution_count": 24,
   "id": "4bed38ce",
   "metadata": {},
   "outputs": [
    {
     "name": "stderr",
     "output_type": "stream",
     "text": [
      "C:\\Users\\prath\\anaconda3\\lib\\site-packages\\sklearn\\utils\\validation.py:1688: FutureWarning: Feature names only support names that are all strings. Got feature names with dtypes: ['int', 'str']. An error will be raised in 1.2.\n",
      "  warnings.warn(\n",
      "C:\\Users\\prath\\anaconda3\\lib\\site-packages\\sklearn\\utils\\validation.py:1688: FutureWarning: Feature names only support names that are all strings. Got feature names with dtypes: ['int', 'str']. An error will be raised in 1.2.\n",
      "  warnings.warn(\n"
     ]
    },
    {
     "data": {
      "image/png": "[encoded data removed]",
      "text/plain": [
       "<Figure size 432x288 with 1 Axes>"
      ]
     },
     "metadata": {
      "needs_background": "light"
     },
     "output_type": "display_data"
    }
   ],
   "source": [
    "# Initialize the K-Means model with n_clusters 3\n",
    "model = KMeans(n_clusters=3, random_state=0)\n",
    "\n",
    "# Train the model\n",
    "model.fit(pca_df)\n",
    "\n",
    "# Predict clusters\n",
    "predictions = model.predict(pca_df)\n",
    "\n",
    "# Add predicted clusters (labels) to DataFrame\n",
    "pca_df['class'] = model.labels_\n",
    "# Plot the Clusters\n",
    "plt.scatter(x=pca_df[1], y=pca_df[2], c=pca_df['class'])\n",
    "plt.xlabel('PCA 1')\n",
    "plt.ylabel('PCA 2')\n",
    "plt.title('Myopia clusters')\n",
    "plt.show()"
   ]
  },
  {
   "cell_type": "markdown",
   "id": "b55a611a",
   "metadata": {},
   "source": [
    "Part 4: Make a Recommendation Myopia Clusters Findings After Preparing the Data, Applying Dimensionality Reduction using PCA and reducing this further with t-SNE I performed a Cluster Analysis with K-Means model. I found**:\n",
    "\n",
    "The optimal number of clusters seems to be 3\n",
    "\n",
    "t-SNE was not helpful in finding clusters, there was some some difference after adjusting perplexity but this could be due to random noise.\n",
    "\n",
    "Some patterns after performing the K-Means clustering but the dataset is too small to make an accurate prediction or for further splitting and training of data.\n",
    "\n",
    "My recommendation is to get a bigger dataset and to split the data into Test and Training to test the above models and others to be able to make more accurate predictions and clustering."
   ]
  }
 ],
 "metadata": {
  "kernelspec": {
   "display_name": "Python 3 (ipykernel)",
   "language": "python",
   "name": "python3"
  },
  "language_info": {
   "codemirror_mode": {
    "name": "ipython",
    "version": 3
   },
   "file_extension": ".py",
   "mimetype": "text/x-python",
   "name": "python",
   "nbconvert_exporter": "python",
   "pygments_lexer": "ipython3",
   "version": "3.9.12"
  }
 },
 "nbformat": 4,
 "nbformat_minor": 5
}
